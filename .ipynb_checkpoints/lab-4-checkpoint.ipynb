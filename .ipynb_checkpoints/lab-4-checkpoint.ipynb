{
 "cells": [
  {
   "cell_type": "code",
   "execution_count": 1,
   "metadata": {},
   "outputs": [],
   "source": [
    "import numpy as np\n",
    "import pickle\n",
    "from matplotlib import pyplot as plt\n",
    "\n",
    "from zipfile import ZipFile\n",
    "import cv2\n",
    "from skimage.feature import hog\n",
    "import os\n",
    "\n",
    "from sklearn.utils import shuffle\n",
    "from sklearn.metrics import accuracy_score\n",
    "\n",
    "%matplotlib inline"
   ]
  },
  {
   "cell_type": "code",
   "execution_count": 5,
   "metadata": {},
   "outputs": [
    {
     "data": {
      "text/plain": [
       "<matplotlib.image.AxesImage at 0x7ff47bd71588>"
      ]
     },
     "execution_count": 5,
     "metadata": {},
     "output_type": "execute_result"
    },
    {
     "data": {
      "image/png": "[encoded data removed]",
      "text/plain": [
       "<Figure size 432x288 with 1 Axes>"
      ]
     },
     "metadata": {},
     "output_type": "display_data"
    }
   ],
   "source": [
    "img = cv2.imread('test_images/test1.jpg')\n",
    "img = cv2.cvtColor(img, cv2.COLOR_BGR2RGB)\n",
    "img_crop = img[400:656,...]\n",
    "hog_features, hog_visualize = hog(img_crop[...,0], cells_per_block=(3, 3), \n",
    "                                  block_norm='L2-Hys', \n",
    "                                  visualise=True, feature_vector=False)\n",
    "plt.imshow(hog_visualize, 'gray')"
   ]
  },
  {
   "cell_type": "code",
   "execution_count": 34,
   "metadata": {},
   "outputs": [
    {
     "data": {
      "text/plain": [
       "6"
      ]
     },
     "execution_count": 34,
     "metadata": {},
     "output_type": "execute_result"
    }
   ],
   "source": [
    "def extract_features(img, roi_y=[400, 656], roi_x=[None, None],\n",
    "                     pixels_in_cell=8, cells_in_block=3,\n",
    "                     color_space='HSV', window_size=64, \n",
    "                     window_overlap=0.5):\n",
    "    if color_space != 'RGB':\n",
    "        if color_space == 'HSV':\n",
    "            img = cv2.cvtColor(img, cv2.COLOR_RGB2HSV)\n",
    "        elif color_space == 'LUV':\n",
    "            img = cv2.cvtColor(img, cv2.COLOR_RGB2LUV)\n",
    "        elif color_space == 'HLS':\n",
    "            img = cv2.cvtColor(img, cv2.COLOR_RGB2HLS)\n",
    "        elif color_space == 'YUV':\n",
    "            img = cv2.cvtColor(img, cv2.COLOR_RGB2YUV)\n",
    "    else: img = np.copy(img)\n",
    "        \n",
    "    if roi_y[0]==None:\n",
    "        roi_y[0] = 0\n",
    "    if roi_y[1]==None:\n",
    "        roi_y[1] = img.shape[0]\n",
    "    if roi_x[0]==None:\n",
    "        roi_x[0] = 0\n",
    "    if roi_x[1]==None:\n",
    "        roi_x[1] = img.shape[1]\n",
    "    \n",
    "    img_roi = img[roi_y[0]:roi_y[1], roi_x[0]:roi_x[1],:]\n",
    "    img_hog_features0 = hog(img_roi[..., 0], \n",
    "                            cells_per_block=(cells_in_block, cells_in_block), \n",
    "                            pixels_per_cell=(pixels_in_cell, pixels_in_cell), \n",
    "                            block_norm='L2-Hys', visualise=False, \n",
    "                            feature_vector=False)\n",
    "    img_hog_features1 = hog(img_roi[..., 1],\n",
    "                            cells_per_block=(cells_in_block, cells_in_block), \n",
    "                            pixels_per_cell=(pixels_in_cell, pixels_in_cell), \n",
    "                            block_norm='L2-Hys', visualise=False, \n",
    "                            feature_vector=False)\n",
    "    img_hog_features2 = hog(img_roi[..., 2], \n",
    "                            cells_per_block=(cells_in_block, cells_in_block), \n",
    "                            pixels_per_cell=(pixels_in_cell, pixels_in_cell), \n",
    "                            block_norm='L2-Hys', visualise=False, \n",
    "                            feature_vector=False)\n",
    "    img_hog_features = np.stack((img_hog_features0, \n",
    "                                 img_hog_features1, \n",
    "                                 img_hog_features2)).transpose((1, 2, 3, 4, 5, 0))\n",
    "    \n",
    "    img_roi_grid = np.mgrid[roi_y[0]:roi_y[1]:pixels_in_cell, \n",
    "                            roi_x[0]:roi_x[1]:pixels_in_cell].transpose(1, 2, 0)\n",
    "    hog_window_size = int(window_size//pixels_in_cell - cells_in_block + 1)\n",
    "    \n",
    "    for \n",
    "    \n",
    "        \n",
    "    return hog_window_size\n",
    "\n",
    "img_copy = extract_features(img, color_space='HSV')\n",
    "img_copy"
   ]
  },
  {
   "cell_type": "code",
   "execution_count": 26,
   "metadata": {},
   "outputs": [
    {
     "data": {
      "text/plain": [
       "(5, 4, 2)"
      ]
     },
     "execution_count": 26,
     "metadata": {},
     "output_type": "execute_result"
    }
   ],
   "source": [
    "x = np.mgrid[0:10:2, 0:12:3].transpose(1, 2, 0)\n",
    "x.shape"
   ]
  },
  {
   "cell_type": "code",
   "execution_count": 27,
   "metadata": {},
   "outputs": [
    {
     "data": {
      "text/plain": [
       "array([[[0, 0],\n",
       "        [0, 3],\n",
       "        [0, 6],\n",
       "        [0, 9]],\n",
       "\n",
       "       [[2, 0],\n",
       "        [2, 3],\n",
       "        [2, 6],\n",
       "        [2, 9]],\n",
       "\n",
       "       [[4, 0],\n",
       "        [4, 3],\n",
       "        [4, 6],\n",
       "        [4, 9]],\n",
       "\n",
       "       [[6, 0],\n",
       "        [6, 3],\n",
       "        [6, 6],\n",
       "        [6, 9]],\n",
       "\n",
       "       [[8, 0],\n",
       "        [8, 3],\n",
       "        [8, 6],\n",
       "        [8, 9]]])"
      ]
     },
     "execution_count": 27,
     "metadata": {},
     "output_type": "execute_result"
    }
   ],
   "source": [
    "x"
   ]
  },
  {
   "cell_type": "code",
   "execution_count": 21,
   "metadata": {},
   "outputs": [
    {
     "data": {
      "text/plain": [
       "array([[0, 3, 6, 9],\n",
       "       [0, 3, 6, 9],\n",
       "       [0, 3, 6, 9],\n",
       "       [0, 3, 6, 9],\n",
       "       [0, 3, 6, 9]])"
      ]
     },
     "execution_count": 21,
     "metadata": {},
     "output_type": "execute_result"
    }
   ],
   "source": [
    "y"
   ]
  },
  {
   "cell_type": "code",
   "execution_count": null,
   "metadata": {},
   "outputs": [],
   "source": []
  }
 ],
 "metadata": {
  "kernelspec": {
   "display_name": "Python 3",
   "language": "python",
   "name": "python3"
  },
  "language_info": {
   "codemirror_mode": {
    "name": "ipython",
    "version": 3
   },
   "file_extension": ".py",
   "mimetype": "text/x-python",
   "name": "python",
   "nbconvert_exporter": "python",
   "pygments_lexer": "ipython3",
   "version": "3.5.5"
  }
 },
 "nbformat": 4,
 "nbformat_minor": 2
}
