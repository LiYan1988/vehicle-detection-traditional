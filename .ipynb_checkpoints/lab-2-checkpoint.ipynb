{
 "cells": [
  {
   "cell_type": "markdown",
   "metadata": {},
   "source": [
    "### Import sklearn"
   ]
  },
  {
   "cell_type": "code",
   "execution_count": 80,
   "metadata": {},
   "outputs": [],
   "source": [
    "from sklearn.preprocessing import StandardScaler\n",
    "from sklearn.ensemble import (ExtraTreesClassifier, RandomForestClassifier, \n",
    "                              AdaBoostClassifier, BaggingClassifier, GradientBoostingClassifier)\n",
    "from sklearn.tree import ExtraTreeClassifier, DecisionTreeClassifier\n",
    "from sklearn.linear_model import LogisticRegression\n",
    "from sklearn.svm import LinearSVC, SVC\n",
    "from sklearn.model_selection import train_test_split\n",
    "from sklearn.feature_selection import SelectFromModel\n",
    "from sklearn.metrics import log_loss, accuracy_score\n",
    "\n",
    "from matplotlib import pyplot as plt\n",
    "import numpy as np\n",
    "import time\n",
    "\n",
    "%matplotlib inline"
   ]
  },
  {
   "cell_type": "markdown",
   "metadata": {},
   "source": [
    "### Import, split, and scale data"
   ]
  },
  {
   "cell_type": "code",
   "execution_count": 4,
   "metadata": {},
   "outputs": [
    {
     "name": "stdout",
     "output_type": "stream",
     "text": [
      "(12831, 11916) (2265, 11916) (2664, 11916)\n"
     ]
    }
   ],
   "source": [
    "# import data\n",
    "import pickle\n",
    "with open('data.p', 'rb') as f:\n",
    "    data = pickle.load(f)\n",
    "x_train, y_train = data['x_train'], data['y_train']\n",
    "\n",
    "# split data\n",
    "x_train, x_test, y_train, y_test = train_test_split(x_train, y_train, test_size=0.15)\n",
    "x_train, x_valid, y_train, y_valid = train_test_split(x_train, y_train, test_size=0.15)\n",
    "\n",
    "# scale data\n",
    "scaler = StandardScaler()\n",
    "scaler.fit(x_train)\n",
    "x_train = scaler.transform(x_train)\n",
    "x_valid = scaler.transform(x_valid)\n",
    "x_test = scaler.transform(x_test)\n",
    "print(x_train.shape, x_valid.shape, x_test.shape)"
   ]
  },
  {
   "cell_type": "markdown",
   "metadata": {},
   "source": [
    "### Prefit extra-trees and random forest, and then use SelectFromModel to select features\n",
    "ExtraTreesClassifier is much faste than RandomForestClassifier"
   ]
  },
  {
   "cell_type": "code",
   "execution_count": 77,
   "metadata": {},
   "outputs": [
    {
     "name": "stdout",
     "output_type": "stream",
     "text": [
      "1.0632219268232421\n",
      "Running time is 5.179\n",
      "0.6918098749346857\n",
      "Running time is 16.781\n"
     ]
    }
   ],
   "source": [
    "time_start = time.time()\n",
    "etc_prefit = ExtraTreesClassifier(n_estimators=100, criterion='entropy', \n",
    "                                  max_depth=15, min_samples_leaf=10, max_leaf_nodes=100, n_jobs=-1)\n",
    "etc_prefit.fit(x_train, y_train)\n",
    "etc_feature_importance = etc_prefit.feature_importances_\n",
    "etc_feature_percentile = np.percentile(etc_feature_importance, 85)/etc_feature_importance.mean()\n",
    "time_end = time.time()\n",
    "print(etc_feature_percentile)\n",
    "print('Running time is {:.3f}'.format(time_end-time_start))\n",
    "\n",
    "time_start = time.time()\n",
    "rfc_prefit = RandomForestClassifier(n_estimators=100, criterion='entropy', \n",
    "                                    max_depth=15, min_samples_leaf=10, max_leaf_nodes=100, n_jobs=-1)\n",
    "rfc_prefit.fit(x_train, y_train)\n",
    "rfc_feature_importance = rfc_prefit.feature_importances_\n",
    "rfc_feature_percentile = np.percentile(rfc_feature_importance, 85)/rfc_feature_importance.mean()\n",
    "time_end = time.time()\n",
    "print(rfc_feature_percentile)\n",
    "print('Running time is {:.3f}'.format(time_end-time_start))\n",
    "#dt = ExtraTreeClassifier(criterion='entropy', max_depth=6)"
   ]
  },
  {
   "cell_type": "code",
   "execution_count": 78,
   "metadata": {},
   "outputs": [
    {
     "data": {
      "text/plain": [
       "[<matplotlib.lines.Line2D at 0x7fbc11097710>]"
      ]
     },
     "execution_count": 78,
     "metadata": {},
     "output_type": "execute_result"
    },
    {
     "data": {
      "image/png": "[encoded data removed]",
      "text/plain": [
       "<matplotlib.figure.Figure at 0x7fbc11097f28>"
      ]
     },
     "metadata": {},
     "output_type": "display_data"
    }
   ],
   "source": [
    "plt.plot(etc_feature_importance)\n",
    "plt.plot(rfc_feature_importance)"
   ]
  },
  {
   "cell_type": "markdown",
   "metadata": {},
   "source": [
    "### Select features"
   ]
  },
  {
   "cell_type": "code",
   "execution_count": 83,
   "metadata": {},
   "outputs": [
    {
     "name": "stdout",
     "output_type": "stream",
     "text": [
      "Accuracy for features from ExtraTreesClassifier is 0.987\n",
      "Accuracy for features from RandomForestClassifier is 0.988\n"
     ]
    }
   ],
   "source": [
    "model_etc = SelectFromModel(etc_prefit, threshold='{:.3f}*mean'.format(etc_feature_percentile), prefit=True)\n",
    "x_train_etc = model_etc.transform(x_train)\n",
    "x_valid_etc = model_etc.transform(x_valid)\n",
    "\n",
    "model_rfc = SelectFromModel(rfc_prefit, threshold='{:.3f}*mean'.format(rfc_feature_percentile), prefit=True)\n",
    "x_train_rfc = model_rfc.transform(x_train)\n",
    "x_valid_rfc = model_rfc.transform(x_valid)\n",
    "\n",
    "linear_svc_etc = LinearSVC(C=1e-2, fit_intercept=True, random_state=0)\n",
    "linear_svc_etc.fit(x_train_etc, y_train)\n",
    "y_valid_predict_etc = linear_svc_etc.predict(x_valid_etc)\n",
    "etc_acc = accuracy_score(y_valid, y_valid_predict_etc)\n",
    "print('Accuracy for features from ExtraTreesClassifier is {:.3f}'.format(etc_acc))\n",
    "\n",
    "linear_svc_rfc = LinearSVC(C=1e-2, fit_intercept=True, random_state=0)\n",
    "linear_svc_rfc.fit(x_train_rfc, y_train)\n",
    "y_valid_predict_rfc = linear_svc_rfc.predict(x_valid_rfc)\n",
    "rfc_acc = accuracy_score(y_valid, y_valid_predict_rfc)\n",
    "print('Accuracy for features from RandomForestClassifier is {:.3f}'.format(rfc_acc))\n"
   ]
  },
  {
   "cell_type": "code",
   "execution_count": 84,
   "metadata": {},
   "outputs": [],
   "source": [
    "x_test_rfc = model_rfc.transform(x_test)"
   ]
  },
  {
   "cell_type": "code",
   "execution_count": null,
   "metadata": {},
   "outputs": [],
   "source": [
    "with open('data_rfc.p', 'wb') as pfile:\n",
    "    pickle.dump({'x_train': x_train_rfc, 'y_train': y_train, \n",
    "                 'x_valid': x_valid_rfc, 'y_valid': y_valid,\n",
    "                 'x_test': x_test_rfc, 'y_test': y_test})"
   ]
  }
 ],
 "metadata": {
  "kernelspec": {
   "display_name": "Python 3",
   "language": "python",
   "name": "python3"
  },
  "language_info": {
   "codemirror_mode": {
    "name": "ipython",
    "version": 3
   },
   "file_extension": ".py",
   "mimetype": "text/x-python",
   "name": "python",
   "nbconvert_exporter": "python",
   "pygments_lexer": "ipython3",
   "version": "3.5.4"
  }
 },
 "nbformat": 4,
 "nbformat_minor": 2
}
